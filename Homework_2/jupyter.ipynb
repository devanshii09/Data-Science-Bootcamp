{
  "cells": [
    {
      "cell_type": "markdown",
      "source": [],
      "metadata": {
        "id": "oYfXQKsxmnKk"
      },
      "id": "oYfXQKsxmnKk"
    },
    {
      "cell_type": "code",
      "source": [
        "import numpy as np\n",
        "\n",
        "A = np.array([[1, 2], [3, 4]])\n",
        "B = np.array([[5, 6], [7, 8]])\n",
        "\n",
        "vertical_stack = np.vstack((A, B))\n",
        "\n",
        "horizontal_stack = np.hstack((A, B))\n",
        "\n",
        "print(\"Vertical Stack:\\n\", vertical_stack)\n",
        "print(\"Horizontal Stack:\\n\", horizontal_stack)"
      ],
      "metadata": {
        "id": "-HStHKZ0ncyO",
        "outputId": "847a70d8-a97c-4a7e-8c79-510df99d9a54",
        "colab": {
          "base_uri": "https://localhost:8080/"
        }
      },
      "id": "-HStHKZ0ncyO",
      "execution_count": 1,
      "outputs": [
        {
          "output_type": "stream",
          "name": "stdout",
          "text": [
            "Vertical Stack:\n",
            " [[1 2]\n",
            " [3 4]\n",
            " [5 6]\n",
            " [7 8]]\n",
            "Horizontal Stack:\n",
            " [[1 2 5 6]\n",
            " [3 4 7 8]]\n"
          ]
        }
      ]
    }
  ],
  "metadata": {
    "kernelspec": {
      "display_name": "Python 3",
      "name": "python3"
    },
    "language_info": {
      "name": "python"
    },
    "required_libs": [],
    "colab": {
      "provenance": []
    }
  },
  "nbformat": 4,
  "nbformat_minor": 5
}