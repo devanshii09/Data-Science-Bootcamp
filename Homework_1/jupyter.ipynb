{
  "cells": [
    {
      "cell_type": "markdown",
      "metadata": {
        "id": "view-in-github",
        "colab_type": "text"
      },
      "source": [
        "<a href=\"https://colab.research.google.com/github/devanshii09/Data-Science-Bootcamp/blob/main/Homework_1/jupyter.ipynb\" target=\"_parent\"><img src=\"https://colab.research.google.com/assets/colab-badge.svg\" alt=\"Open In Colab\"/></a>"
      ]
    },
    {
      "cell_type": "markdown",
      "source": [
        "Question 1: Display Fibonacci Series upto 10 terms\n",
        "\n"
      ],
      "metadata": {
        "id": "Redfm8aR8Udq"
      },
      "id": "Redfm8aR8Udq"
    },
    {
      "cell_type": "code",
      "source": [
        "def fibonacci(n):\n",
        "  if n in [1,2]:\n",
        "    return 1;\n",
        "\n",
        "  return fibonacci(n-1)+fibonacci(n-2)\n",
        "\n",
        "for i in range(1,10):\n",
        "  print(fibonacci(i))\n"
      ],
      "metadata": {
        "colab": {
          "base_uri": "https://localhost:8080/"
        },
        "id": "aeYaG9Cv5e_A",
        "outputId": "c59ca005-f9e4-45a0-f7a2-c2eb9beaf003"
      },
      "id": "aeYaG9Cv5e_A",
      "execution_count": 5,
      "outputs": [
        {
          "output_type": "stream",
          "name": "stdout",
          "text": [
            "1\n",
            "1\n",
            "2\n",
            "3\n",
            "5\n",
            "8\n",
            "13\n",
            "21\n",
            "34\n"
          ]
        }
      ]
    },
    {
      "cell_type": "markdown",
      "source": [
        "Question 2: ⁠Display numbers at the odd indices of a list"
      ],
      "metadata": {
        "id": "yGRMR8BB8qvH"
      },
      "id": "yGRMR8BB8qvH"
    },
    {
      "cell_type": "code",
      "source": [
        "ls=list(range(1,10))\n",
        "result=[]\n",
        "\n",
        "count=0\n",
        "\n",
        "for i in ls:\n",
        "  if count % 2 != 0:\n",
        "    result.append(i)\n",
        "  count+=1\n",
        "\n",
        "print(\"Original list\",ls)\n",
        "print(\"Result:\",result)"
      ],
      "metadata": {
        "id": "JBpCwm-l8psv",
        "outputId": "3037dc18-173c-4c00-f207-ee948afc8149",
        "colab": {
          "base_uri": "https://localhost:8080/"
        }
      },
      "id": "JBpCwm-l8psv",
      "execution_count": 13,
      "outputs": [
        {
          "output_type": "stream",
          "name": "stdout",
          "text": [
            "Original list [1, 2, 3, 4, 5, 6, 7, 8, 9]\n",
            "Result: [2, 4, 6, 8]\n"
          ]
        }
      ]
    },
    {
      "cell_type": "markdown",
      "source": [
        "Question 3: To count the number of different words in this text"
      ],
      "metadata": {
        "id": "28WTvcxYet41"
      },
      "id": "28WTvcxYet41"
    },
    {
      "cell_type": "code",
      "source": [
        "from string import punctuation\n",
        "string = \"\"\"\n",
        "\n",
        "I have provided this text to provide tips on creating interesting paragraphs.\n",
        "\n",
        "First, start with a clear topic sentence that introduces the main idea.\n",
        "\n",
        "Then, support the topic sentence with specific details, examples, and evidence.\n",
        "\n",
        "Vary the sentence length and structure to keep the reader engaged.\n",
        "\n",
        "Finally, end with a strong concluding sentence that summarizes the main points.\n",
        "\n",
        "Remember, practice makes perfect!\n",
        "\n",
        "\"\"\"\n",
        "\n",
        "string=string.lower()\n",
        "\n",
        "punctuation=\".,!?:;-\"\n",
        "clean_string = \"\"\n",
        "for char in string:\n",
        "    if char not in punctuation:\n",
        "        clean_string += char\n",
        "\n",
        "words=clean_string.split()\n",
        "\n",
        "unique_words = set(words)\n",
        "\n",
        "print(\"Unique words = \",len(unique_words))\n"
      ],
      "metadata": {
        "id": "GlByn1YZe1Sg",
        "outputId": "4d319967-0212-4bd4-a8b7-e5f6701f2670",
        "colab": {
          "base_uri": "https://localhost:8080/"
        }
      },
      "id": "GlByn1YZe1Sg",
      "execution_count": 27,
      "outputs": [
        {
          "output_type": "stream",
          "name": "stdout",
          "text": [
            "Unique words =  47\n"
          ]
        }
      ]
    },
    {
      "cell_type": "markdown",
      "source": [
        "Question 4: Write a function count_vowels(word) that takes a word as an argument and returns the number of vowels in the word"
      ],
      "metadata": {
        "id": "SIn6LIQCigp_"
      },
      "id": "SIn6LIQCigp_"
    },
    {
      "cell_type": "code",
      "source": [
        "string = \"apocalypse\"\n",
        "\n",
        "def count_vowels(word):\n",
        "  count=0\n",
        "\n",
        "  for char in word:\n",
        "    if char in ['a','e','i','o','u']:\n",
        "      count+=1\n",
        "\n",
        "  return count\n",
        "\n",
        "print(count_vowels(string))\n"
      ],
      "metadata": {
        "id": "8qkwpcNAiftF",
        "outputId": "c007e88c-cc1c-4991-f32c-374e6f37acad",
        "colab": {
          "base_uri": "https://localhost:8080/"
        }
      },
      "id": "8qkwpcNAiftF",
      "execution_count": 37,
      "outputs": [
        {
          "output_type": "stream",
          "name": "stdout",
          "text": [
            "4\n"
          ]
        }
      ]
    },
    {
      "cell_type": "markdown",
      "source": [
        "Question 5: ⁠Iterate through the following list of animals and print each one in all caps.\n",
        "\n",
        "animals=['tiger', 'elephant', 'monkey', 'zebra', 'panther']"
      ],
      "metadata": {
        "id": "waZJTegGKMNy"
      },
      "id": "waZJTegGKMNy"
    },
    {
      "cell_type": "code",
      "source": [
        "animals=['tiger', 'elephant', 'monkey', 'zebra', 'panther']\n",
        "\n",
        "for i in range(len(animals)):\n",
        "  animals[i]=animals[i].upper()\n",
        "\n",
        "print(animals)"
      ],
      "metadata": {
        "id": "NrKRtxhqKQ7f",
        "outputId": "665218de-20f7-43de-97b1-79c0eaf50ed8",
        "colab": {
          "base_uri": "https://localhost:8080/"
        }
      },
      "id": "NrKRtxhqKQ7f",
      "execution_count": 5,
      "outputs": [
        {
          "output_type": "stream",
          "name": "stdout",
          "text": [
            "['TIGER', 'ELEPHANT', 'MONKEY', 'ZEBRA', 'PANTHER']\n"
          ]
        }
      ]
    },
    {
      "cell_type": "markdown",
      "source": [
        "Question 6: Write a program that iterates from 1 to 20, printing each number and whether it's odd or even."
      ],
      "metadata": {
        "id": "eg54pO5tLJKx"
      },
      "id": "eg54pO5tLJKx"
    },
    {
      "cell_type": "code",
      "source": [],
      "metadata": {
        "id": "jft0AEYjLN79"
      },
      "id": "jft0AEYjLN79",
      "execution_count": null,
      "outputs": []
    }
  ],
  "metadata": {
    "kernelspec": {
      "display_name": "Python 3",
      "name": "python3"
    },
    "language_info": {
      "name": "python"
    },
    "required_libs": [],
    "colab": {
      "provenance": [],
      "include_colab_link": true
    }
  },
  "nbformat": 4,
  "nbformat_minor": 5
}